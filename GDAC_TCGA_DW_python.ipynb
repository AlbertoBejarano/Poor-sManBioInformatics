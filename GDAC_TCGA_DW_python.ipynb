{
 "cells": [
  {
   "cell_type": "code",
   "execution_count": 1,
   "id": "0a039b0a-198e-4f26-a597-736568c573b1",
   "metadata": {},
   "outputs": [],
   "source": [
    "# https://gdac.broadinstitute.org/"
   ]
  },
  {
   "cell_type": "code",
   "execution_count": 2,
   "id": "345a5cc6-2ab8-4bea-bf79-5cbd142bf7ed",
   "metadata": {},
   "outputs": [],
   "source": [
    "import gzip\n",
    "import pandas as pd\n",
    "import warnings\n",
    "warnings.filterwarnings('ignore')"
   ]
  },
  {
   "cell_type": "code",
   "execution_count": 3,
   "id": "23f823ca-a69a-42ce-a930-20df6516b49d",
   "metadata": {},
   "outputs": [],
   "source": [
    "df = pd.read_csv('DATA/ACC.RSEM_genes_normalized.tar.gz', compression='gzip', header=0, sep='\\t', quotechar='\"', error_bad_lines=False)"
   ]
  },
  {
   "cell_type": "code",
   "execution_count": 4,
   "id": "5fc225bf-ffe3-42b1-ae42-01402d901f16",
   "metadata": {},
   "outputs": [],
   "source": [
    "df.rename(columns={'././@LongLink': 'GeneID'}, inplace=True)\n",
    "df.columns = df.columns.str.replace('[#,@,&,?,|]', '')\n",
    "df[['GeneID','Gene']] = df['GeneID'].str.split('|',expand=True)\n",
    "df.drop(['Gene'], axis=1)\n",
    "df.drop(df.loc[200:20534].index, inplace=True)\n",
    "df.drop(df[(df['GeneID'] == \"?\")].index, inplace=True)\n",
    "df.drop(labels=0, axis=0, inplace=True)"
   ]
  },
  {
   "cell_type": "code",
   "execution_count": 5,
   "id": "0f267efd-1f65-44cb-9dce-5fb8ddbcacc9",
   "metadata": {},
   "outputs": [],
   "source": [
    "df.to_csv('DATA/Output.tsv', sep='\\t', index=False)"
   ]
  }
 ],
 "metadata": {
  "kernelspec": {
   "display_name": "Python 3",
   "language": "python",
   "name": "python3"
  },
  "language_info": {
   "codemirror_mode": {
    "name": "ipython",
    "version": 3
   },
   "file_extension": ".py",
   "mimetype": "text/x-python",
   "name": "python",
   "nbconvert_exporter": "python",
   "pygments_lexer": "ipython3",
   "version": "3.8.8"
  }
 },
 "nbformat": 4,
 "nbformat_minor": 5
}
