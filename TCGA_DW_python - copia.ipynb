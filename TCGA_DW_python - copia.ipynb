{
 "cells": [
  {
   "cell_type": "code",
   "execution_count": 1,
   "id": "26d185bc-63de-47ca-891b-c4acf88e14bc",
   "metadata": {},
   "outputs": [],
   "source": [
    "# https://gdac.broadinstitute.org/"
   ]
  },
  {
   "cell_type": "code",
   "execution_count": 2,
   "id": "aa9718d1-0b8c-4804-b56f-2d8ff1a0039a",
   "metadata": {},
   "outputs": [],
   "source": [
    "import gzip\n",
    "import pandas as pd\n",
    "# df.columns.tolist()"
   ]
  },
  {
   "cell_type": "code",
   "execution_count": 3,
   "id": "23f823ca-a69a-42ce-a930-20df6516b49d",
   "metadata": {},
   "outputs": [
    {
     "name": "stderr",
     "output_type": "stream",
     "text": [
      "C:\\Users\\alber\\anaconda3\\lib\\site-packages\\IPython\\core\\interactiveshell.py:3165: DtypeWarning: Columns (1,2,3,4,5,6,7,8,9,10,11,12,13,14,15,16,17,18,19,20,21,22,23,24,25,26,27,28,29,30,31,32,33,34,35,36,37,38,39,40,41,42,43,44,45,46,47,48,49,50,51,52,53,54,55,56,57,58,59,60,61,62,63,64,65,66,67,68,69,70,71,72,73,74,75,76,77,78,79) have mixed types.Specify dtype option on import or set low_memory=False.\n",
      "  has_raised = await self.run_ast_nodes(code_ast.body, cell_name,\n"
     ]
    }
   ],
   "source": [
    "df = pd.read_csv('DATA/ACC.RSEM_genes_normalized.tar.gz', compression='gzip', header=0, sep='\\t', quotechar='\"', error_bad_lines=False)"
   ]
  },
  {
   "cell_type": "code",
   "execution_count": 4,
   "id": "5fc225bf-ffe3-42b1-ae42-01402d901f16",
   "metadata": {},
   "outputs": [
    {
     "name": "stderr",
     "output_type": "stream",
     "text": [
      "<ipython-input-4-fdb799838e29>:2: FutureWarning: The default value of regex will change from True to False in a future version.\n",
      "  df.columns = df.columns.str.replace('[#,@,&,?,|]', '')\n"
     ]
    }
   ],
   "source": [
    "df.rename(columns={'././@LongLink': 'GeneID'}, inplace=True)\n",
    "df.columns = df.columns.str.replace('[#,@,&,?,|]', '')\n",
    "df[['GeneID','Gene']] = df['GeneID'].str.split('|',expand=True)\n",
    "df.drop(['Gene'], axis=1)\n",
    "df.drop(df.loc[200:20534].index, inplace=True)\n",
    "df.drop(df[(df['GeneID'] == \"?\")].index, inplace=True)\n",
    "df.drop(labels=0, axis=0, inplace=True)"
   ]
  },
  {
   "cell_type": "code",
   "execution_count": 5,
   "id": "0f267efd-1f65-44cb-9dce-5fb8ddbcacc9",
   "metadata": {},
   "outputs": [],
   "source": [
    "df.to_csv('DATA/Output_GoI.tsv', sep='\\t', index=False)"
   ]
  }
 ],
 "metadata": {
  "kernelspec": {
   "display_name": "Python 3",
   "language": "python",
   "name": "python3"
  },
  "language_info": {
   "codemirror_mode": {
    "name": "ipython",
    "version": 3
   },
   "file_extension": ".py",
   "mimetype": "text/x-python",
   "name": "python",
   "nbconvert_exporter": "python",
   "pygments_lexer": "ipython3",
   "version": "3.8.8"
  }
 },
 "nbformat": 4,
 "nbformat_minor": 5
}
